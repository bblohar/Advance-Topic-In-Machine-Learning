{
  "cells": [
    {
      "cell_type": "markdown",
      "metadata": {
        "id": "xnLrcZLeZVZ3"
      },
      "source": [
        "# Building MAML From Scratch"
      ]
    },
    {
      "cell_type": "code",
      "execution_count": null,
      "metadata": {
        "collapsed": true,
        "id": "MFR93Wc7ZVZ8"
      },
      "outputs": [],
      "source": [
        "import numpy as np"
      ]
    },
    {
      "cell_type": "markdown",
      "metadata": {
        "id": "sjCBZhSWZVZ-"
      },
      "source": [
        "## Generate Data Points"
      ]
    },
    {
      "cell_type": "markdown",
      "metadata": {
        "id": "v33erF_8ZVZ-"
      },
      "source": [
        "Now we define a function called sample_points for generating our input (x,y) pairs. It takes the parameter k as an input which implies number of (x,y) pairs we want to sample."
      ]
    },
    {
      "cell_type": "code",
      "execution_count": null,
      "metadata": {
        "collapsed": true,
        "id": "DsPL_Nv0ZVZ_"
      },
      "outputs": [],
      "source": [
        "def sample_points(k):\n",
        "    x = np.random.rand(k,50)\n",
        "    y = np.random.choice([0, 1], size=k, p=[.5, .5]).reshape([-1,1])\n",
        "    return x,y"
      ]
    },
    {
      "cell_type": "markdown",
      "metadata": {
        "id": "oRYvFw4xZVaA"
      },
      "source": [
        "The above function returns output as follows,"
      ]
    },
    {
      "cell_type": "code",
      "execution_count": null,
      "metadata": {
        "id": "D4vcGPYbZVaB",
        "outputId": "e3aecdc1-8762-4aa7-b256-5d1bb66030ad",
        "colab": {
          "base_uri": "https://localhost:8080/"
        }
      },
      "outputs": [
        {
          "output_type": "stream",
          "name": "stdout",
          "text": [
            "[0.97701001 0.44817844 0.30013732 0.81729228 0.70880694 0.45539925\n",
            " 0.12877841 0.61566289 0.41096704 0.67261094 0.91691169 0.15220317\n",
            " 0.52717107 0.62315087 0.14890789 0.91830606 0.35178133 0.42148066\n",
            " 0.57827116 0.2260505  0.75068013 0.10678101 0.28770735 0.87530419\n",
            " 0.41641763 0.56189681 0.67508445 0.87997899 0.13827073 0.62105671\n",
            " 0.49510489 0.15328504 0.35248309 0.10929488 0.95751146 0.12346789\n",
            " 0.55446348 0.14252032 0.166051   0.36793247 0.24250467 0.10696335\n",
            " 0.80372284 0.69391824 0.98584402 0.91588999 0.70855354 0.12828527\n",
            " 0.23486177 0.15185181]\n",
            "[1]\n"
          ]
        }
      ],
      "source": [
        "x, y = sample_points(10)\n",
        "print(x[0])\n",
        "print(y[0])"
      ]
    },
    {
      "cell_type": "markdown",
      "metadata": {
        "id": "WdgxaYpBZVaC"
      },
      "source": [
        "## Single Layer Neural Network"
      ]
    },
    {
      "cell_type": "markdown",
      "metadata": {
        "id": "n8YtT-8SZVaD"
      },
      "source": [
        "For simplicity and better understand, we use a neural network with only single layer for predicting the output. i.e,\n",
        "\n",
        "a = np.matmul(X, theta)\n",
        "\n",
        "YHat = sigmoid(a)\n",
        "\n",
        "\n",
        "\n",
        "__*we use MAML for finding this optimal parameter value theta that is generalizable across tasks. So that\n",
        "for a new task, we can learn from a few data points in a lesser time by taking very less gradient steps.*__"
      ]
    },
    {
      "cell_type": "markdown",
      "metadata": {
        "id": "0tbOOIfZZVaD"
      },
      "source": [
        "## MAML"
      ]
    },
    {
      "cell_type": "markdown",
      "metadata": {
        "id": "EXwIAYk-ZVaE"
      },
      "source": [
        "we define a class called MAML where we implement the MAML algorithm. In the \\__init__  method we will initialize all the necessary variables. Then we define our sigmoid activation function. Followed by we define our train function."
      ]
    },
    {
      "cell_type": "code",
      "execution_count": null,
      "metadata": {
        "collapsed": true,
        "id": "Df1wGDsGZVaE"
      },
      "outputs": [],
      "source": [
        "class MAML(object):\n",
        "    def __init__(self):\n",
        "\n",
        "        #initialize number of tasks i.e number of tasks we need in each batch of tasks\n",
        "        self.num_tasks = 10\n",
        "\n",
        "        #number of samples i.e number of shots  -number of data points (k) we need to have in each task\n",
        "        self.num_samples = 10\n",
        "\n",
        "        #number of epochs i.e training iterations\n",
        "        self.epochs = 10000\n",
        "\n",
        "        #hyperparameter for the inner loop (inner gradient update)\n",
        "        self.alpha = 0.0001\n",
        "\n",
        "        #hyperparameter for the outer loop (outer gradient update) i.e meta optimization\n",
        "        self.beta = 0.0001\n",
        "\n",
        "        #randomly initialize our model parameter theta\n",
        "        self.theta = np.random.normal(size=50).reshape(50, 1)\n",
        "\n",
        "    #define our sigmoid activation function\n",
        "    def sigmoid(self,a):\n",
        "        return 1.0 / (1 + np.exp(-a))\n",
        "\n",
        "\n",
        "    #now let us get to the interesting part i.e training :P\n",
        "    def train(self):\n",
        "\n",
        "        #for the number of epochs,\n",
        "        for e in range(self.epochs):\n",
        "\n",
        "            self.theta_ = []\n",
        "\n",
        "            #for task i in batch of tasks\n",
        "            for i in range(self.num_tasks):\n",
        "\n",
        "                #sample k data points and prepare our train set\n",
        "                XTrain, YTrain = sample_points(self.num_samples)\n",
        "\n",
        "                a = np.matmul(XTrain, self.theta)\n",
        "\n",
        "                YHat = self.sigmoid(a)\n",
        "\n",
        "                #since we are performing classification, we use cross entropy loss as our loss function\n",
        "                loss = ((np.matmul(-YTrain.T, np.log(YHat)) - np.matmul((1 -YTrain.T), np.log(1 - YHat)))/self.num_samples)[0][0]\n",
        "\n",
        "                #minimize the loss by calculating gradients\n",
        "                gradient = np.matmul(XTrain.T, (YHat - YTrain)) / self.num_samples\n",
        "\n",
        "                #update the gradients and find the optimal parameter theta' for each of tasks\n",
        "                self.theta_.append(self.theta - self.alpha*gradient)\n",
        "\n",
        "\n",
        "            #initialize meta gradients\n",
        "            meta_gradient = np.zeros(self.theta.shape)\n",
        "\n",
        "            for i in range(self.num_tasks):\n",
        "\n",
        "                #sample k data points and prepare our test set for meta training\n",
        "                XTest, YTest = sample_points(10)\n",
        "\n",
        "                #predict the value of y\n",
        "                a = np.matmul(XTest, self.theta_[i])\n",
        "\n",
        "                YPred = self.sigmoid(a)\n",
        "\n",
        "                #compute meta gradients\n",
        "                meta_gradient += np.matmul(XTest.T, (YPred - YTest)) / self.num_samples\n",
        "\n",
        "\n",
        "            #update our randomly initialized model parameter theta with the meta gradients\n",
        "            self.theta = self.theta-self.beta*meta_gradient/self.num_tasks\n",
        "\n",
        "            if e%1000==0:\n",
        "                print(\"Epoch {}: Loss {}\\n\".format(e,loss))\n",
        "                print('Updated Model Parameter Theta\\n')\n",
        "                print('Sampling Next Batch of Tasks \\n')\n",
        "                print('---------------------------------\\n')"
      ]
    },
    {
      "cell_type": "code",
      "execution_count": null,
      "metadata": {
        "collapsed": true,
        "id": "uJ94ImEtZVaF"
      },
      "outputs": [],
      "source": [
        "model = MAML()"
      ]
    },
    {
      "cell_type": "code",
      "execution_count": null,
      "metadata": {
        "id": "I6vdfz8fZVaG",
        "outputId": "52b7cf5f-06c8-4b53-9bd7-3bca8f540663",
        "colab": {
          "base_uri": "https://localhost:8080/"
        }
      },
      "outputs": [
        {
          "output_type": "stream",
          "name": "stdout",
          "text": [
            "Epoch 0: Loss 1.3200553893409737\n",
            "\n",
            "Updated Model Parameter Theta\n",
            "\n",
            "Sampling Next Batch of Tasks \n",
            "\n",
            "---------------------------------\n",
            "\n",
            "Epoch 1000: Loss 1.4442779671962247\n",
            "\n",
            "Updated Model Parameter Theta\n",
            "\n",
            "Sampling Next Batch of Tasks \n",
            "\n",
            "---------------------------------\n",
            "\n",
            "Epoch 2000: Loss 1.0415903254272676\n",
            "\n",
            "Updated Model Parameter Theta\n",
            "\n",
            "Sampling Next Batch of Tasks \n",
            "\n",
            "---------------------------------\n",
            "\n",
            "Epoch 3000: Loss 0.6561256814588772\n",
            "\n",
            "Updated Model Parameter Theta\n",
            "\n",
            "Sampling Next Batch of Tasks \n",
            "\n",
            "---------------------------------\n",
            "\n",
            "Epoch 4000: Loss 0.8521443421308212\n",
            "\n",
            "Updated Model Parameter Theta\n",
            "\n",
            "Sampling Next Batch of Tasks \n",
            "\n",
            "---------------------------------\n",
            "\n",
            "Epoch 5000: Loss 1.6289202120754773\n",
            "\n",
            "Updated Model Parameter Theta\n",
            "\n",
            "Sampling Next Batch of Tasks \n",
            "\n",
            "---------------------------------\n",
            "\n",
            "Epoch 6000: Loss 0.8609538624305001\n",
            "\n",
            "Updated Model Parameter Theta\n",
            "\n",
            "Sampling Next Batch of Tasks \n",
            "\n",
            "---------------------------------\n",
            "\n",
            "Epoch 7000: Loss 1.129446096602021\n",
            "\n",
            "Updated Model Parameter Theta\n",
            "\n",
            "Sampling Next Batch of Tasks \n",
            "\n",
            "---------------------------------\n",
            "\n",
            "Epoch 8000: Loss 0.9193237396410062\n",
            "\n",
            "Updated Model Parameter Theta\n",
            "\n",
            "Sampling Next Batch of Tasks \n",
            "\n",
            "---------------------------------\n",
            "\n",
            "Epoch 9000: Loss 0.9873502317291315\n",
            "\n",
            "Updated Model Parameter Theta\n",
            "\n",
            "Sampling Next Batch of Tasks \n",
            "\n",
            "---------------------------------\n",
            "\n"
          ]
        }
      ],
      "source": [
        "model.train()"
      ]
    },
    {
      "cell_type": "code",
      "source": [],
      "metadata": {
        "id": "ppkb9dSpHGYv"
      },
      "execution_count": null,
      "outputs": []
    }
  ],
  "metadata": {
    "kernelspec": {
      "display_name": "Python [default]",
      "language": "python",
      "name": "python2"
    },
    "language_info": {
      "codemirror_mode": {
        "name": "ipython",
        "version": 2
      },
      "file_extension": ".py",
      "mimetype": "text/x-python",
      "name": "python",
      "nbconvert_exporter": "python",
      "pygments_lexer": "ipython2",
      "version": "2.7.11"
    },
    "colab": {
      "provenance": []
    }
  },
  "nbformat": 4,
  "nbformat_minor": 0
}